{
 "cells": [
  {
   "cell_type": "markdown",
   "id": "ff141806",
   "metadata": {},
   "source": [
    "### Python Review Assignment\n",
    "16 points\n",
    "\n",
    "Due by midnight September 13, 2024\n",
    "\n",
    "\n",
    "**To avoid erasing the sample output, please insert a new cell above the sample output**. Write your script inside the new cell and run. Verify your output with the sample output\n",
    "\n",
    "For lab submission, please rename your file using the following format\n",
    "\n",
    "`firstname_familyname_hw1.ipynb`"
   ]
  },
  {
   "cell_type": "markdown",
   "id": "5b92ca20-e54d-4e0e-8eaf-c177cb09dba9",
   "metadata": {},
   "source": [
    "# please enter your name and 700# in this cell\n",
    "Jonathan Punti\n",
    "700700139\n",
    "\n"
   ]
  },
  {
   "cell_type": "markdown",
   "id": "a42732b2",
   "metadata": {},
   "source": [
    "### Task 1\n",
    "Define a string `s1` with content 'Good morning John'. Count the number of characters in `s1`"
   ]
  },
  {
   "cell_type": "code",
   "execution_count": 6,
   "id": "655c39e8",
   "metadata": {},
   "outputs": [],
   "source": [
    "s1 = 'Good morning John'\n"
   ]
  },
  {
   "cell_type": "code",
   "execution_count": 7,
   "id": "e260e38e",
   "metadata": {},
   "outputs": [
    {
     "data": {
      "text/plain": [
       "17"
      ]
     },
     "execution_count": 7,
     "metadata": {},
     "output_type": "execute_result"
    }
   ],
   "source": [
    "charCounts1 = len(s1)\n",
    "charCounts1"
   ]
  },
  {
   "cell_type": "code",
   "execution_count": 6,
   "id": "c29b4bae",
   "metadata": {},
   "outputs": [
    {
     "data": {
      "text/plain": [
       "17"
      ]
     },
     "execution_count": 6,
     "metadata": {},
     "output_type": "execute_result"
    }
   ],
   "source": []
  },
  {
   "cell_type": "markdown",
   "id": "5c074c8c-94c0-437d-833c-33c9822e6f1d",
   "metadata": {},
   "source": [
    "### Task 2\n",
    "Check if the word 'morning' is contained in `s1`"
   ]
  },
  {
   "cell_type": "code",
   "execution_count": 8,
   "id": "11e47041",
   "metadata": {},
   "outputs": [
    {
     "data": {
      "text/plain": [
       "True"
      ]
     },
     "execution_count": 8,
     "metadata": {},
     "output_type": "execute_result"
    }
   ],
   "source": [
    "'morning' in s1"
   ]
  },
  {
   "cell_type": "code",
   "execution_count": 7,
   "id": "e22979de",
   "metadata": {},
   "outputs": [
    {
     "data": {
      "text/plain": [
       "True"
      ]
     },
     "execution_count": 7,
     "metadata": {},
     "output_type": "execute_result"
    }
   ],
   "source": []
  },
  {
   "cell_type": "markdown",
   "id": "a8e990f2",
   "metadata": {},
   "source": [
    "### Task 3\n",
    "Use a function to replace 'John' with 'David' in `s1`. Show the content of the new string"
   ]
  },
  {
   "cell_type": "code",
   "execution_count": 9,
   "id": "2ceadeb8",
   "metadata": {},
   "outputs": [
    {
     "data": {
      "text/plain": [
       "'Good morning David'"
      ]
     },
     "execution_count": 9,
     "metadata": {},
     "output_type": "execute_result"
    }
   ],
   "source": [
    "#news1 = s1.replace('John','David')\n",
    "#news1\n",
    "\n",
    "def replace_name(text, old_name, new_name):\n",
    "\n",
    "    return text.replace(old_name, new_name)\n",
    "    \n",
    "\n",
    "new_s1 = replace_name(s1, \"John\", \"David\")\n",
    "new_s1\n"
   ]
  },
  {
   "cell_type": "code",
   "execution_count": 8,
   "id": "133c3b38",
   "metadata": {},
   "outputs": [
    {
     "data": {
      "text/plain": [
       "'Good morning David'"
      ]
     },
     "execution_count": 8,
     "metadata": {},
     "output_type": "execute_result"
    }
   ],
   "source": []
  },
  {
   "cell_type": "markdown",
   "id": "fccce95f",
   "metadata": {},
   "source": [
    "### Task 4\n",
    "Use your UCM email address to create a string s2. Extract the string `ucmo.edu`"
   ]
  },
  {
   "cell_type": "code",
   "execution_count": 10,
   "id": "1a4662b4",
   "metadata": {},
   "outputs": [
    {
     "data": {
      "text/plain": [
       "'ucmo.edu'"
      ]
     },
     "execution_count": 10,
     "metadata": {},
     "output_type": "execute_result"
    }
   ],
   "source": [
    "emailofUCM = 'JEP01390@ucmo.edu'\n",
    "s2 = emailofUCM[9:]\n",
    "s2"
   ]
  },
  {
   "cell_type": "code",
   "execution_count": 17,
   "id": "61c5f20a",
   "metadata": {},
   "outputs": [
    {
     "data": {
      "text/plain": [
       "'ucmo.edu'"
      ]
     },
     "execution_count": 17,
     "metadata": {},
     "output_type": "execute_result"
    }
   ],
   "source": []
  },
  {
   "cell_type": "markdown",
   "id": "c839354c",
   "metadata": {},
   "source": [
    "### Task 5\n",
    "Create a list x with integers from 1 to 30. Create a new list y which only conatins the odd numbers from list x. You are not allowed to mannually type out the lists"
   ]
  },
  {
   "cell_type": "code",
   "execution_count": 11,
   "id": "f1012d6b",
   "metadata": {},
   "outputs": [
    {
     "data": {
      "text/plain": [
       "[1, 3, 5, 7, 9, 11, 13, 15, 17, 19, 21, 23, 25, 27, 29]"
      ]
     },
     "execution_count": 11,
     "metadata": {},
     "output_type": "execute_result"
    }
   ],
   "source": [
    "listx = list(range(1, 30))\n",
    "listy = []\n",
    "\n",
    "for i in listx:\n",
    "    if i % 2 != 0:\n",
    "        listy.append(i)\n",
    "listy"
   ]
  },
  {
   "cell_type": "code",
   "execution_count": 11,
   "id": "885ffa3f",
   "metadata": {},
   "outputs": [
    {
     "data": {
      "text/plain": [
       "[1, 3, 5, 7, 9, 11, 13, 15, 17, 19, 21, 23, 25, 27, 29]"
      ]
     },
     "execution_count": 11,
     "metadata": {},
     "output_type": "execute_result"
    }
   ],
   "source": []
  },
  {
   "cell_type": "markdown",
   "id": "d8b8ef7b",
   "metadata": {},
   "source": [
    "### Task 6\n",
    "Create a new list z with each element is a squre of the corresponding element from list y. You are not allowed to mannually type out the list"
   ]
  },
  {
   "cell_type": "code",
   "execution_count": 12,
   "id": "36e95073",
   "metadata": {},
   "outputs": [
    {
     "data": {
      "text/plain": [
       "[1, 9, 25, 49, 81, 121, 169, 225, 289, 361, 441, 529, 625, 729, 841]"
      ]
     },
     "execution_count": 12,
     "metadata": {},
     "output_type": "execute_result"
    }
   ],
   "source": [
    "listz = [i**2 for i in listy]\n",
    "\n",
    "listz"
   ]
  },
  {
   "cell_type": "code",
   "execution_count": 12,
   "id": "eb22212d",
   "metadata": {},
   "outputs": [
    {
     "data": {
      "text/plain": [
       "[1, 9, 25, 49, 81, 121, 169, 225, 289, 361, 441, 529, 625, 729, 841]"
      ]
     },
     "execution_count": 12,
     "metadata": {},
     "output_type": "execute_result"
    }
   ],
   "source": []
  },
  {
   "cell_type": "markdown",
   "id": "148610bf",
   "metadata": {},
   "source": [
    "### Task 7\n",
    "Extract `[729, 625, 529, 441, 361, 289, 225, 169]` from list z. You are not allowed to mannually type out the list"
   ]
  },
  {
   "cell_type": "code",
   "execution_count": 13,
   "id": "ac19d388",
   "metadata": {},
   "outputs": [
    {
     "data": {
      "text/plain": [
       "[729, 625, 529, 441, 361, 289, 225, 169]"
      ]
     },
     "execution_count": 13,
     "metadata": {},
     "output_type": "execute_result"
    }
   ],
   "source": [
    "extract = listz[13:5:-1]\n",
    "extract"
   ]
  },
  {
   "cell_type": "code",
   "execution_count": 14,
   "id": "d1e261c4",
   "metadata": {},
   "outputs": [
    {
     "data": {
      "text/plain": [
       "[729, 625, 529, 441, 361, 289, 225, 169]"
      ]
     },
     "execution_count": 14,
     "metadata": {},
     "output_type": "execute_result"
    }
   ],
   "source": []
  },
  {
   "cell_type": "markdown",
   "id": "faa59cf8",
   "metadata": {},
   "source": [
    "### Task 8\n",
    "Reverse the order of z. You are not allowed to mannually type out the list"
   ]
  },
  {
   "cell_type": "code",
   "execution_count": 14,
   "id": "442059cc",
   "metadata": {},
   "outputs": [
    {
     "data": {
      "text/plain": [
       "[841, 729, 625, 529, 441, 361, 289, 225, 169, 121, 81, 49, 25, 9, 1]"
      ]
     },
     "execution_count": 14,
     "metadata": {},
     "output_type": "execute_result"
    }
   ],
   "source": [
    "listz[::-1]"
   ]
  },
  {
   "cell_type": "code",
   "execution_count": 13,
   "id": "c4468042",
   "metadata": {},
   "outputs": [
    {
     "data": {
      "text/plain": [
       "[841, 729, 625, 529, 441, 361, 289, 225, 169, 121, 81, 49, 25, 9, 1]"
      ]
     },
     "execution_count": 13,
     "metadata": {},
     "output_type": "execute_result"
    }
   ],
   "source": []
  },
  {
   "cell_type": "markdown",
   "id": "a5f86fed",
   "metadata": {},
   "source": [
    "### Task 9\n",
    "Given the following list, extract the string 'Get Me'"
   ]
  },
  {
   "cell_type": "code",
   "execution_count": 15,
   "id": "99b61963",
   "metadata": {},
   "outputs": [
    {
     "data": {
      "text/plain": [
       "'Get Me'"
      ]
     },
     "execution_count": 15,
     "metadata": {},
     "output_type": "execute_result"
    }
   ],
   "source": [
    "lst = [1, 2, [3, 4], [5, [100, 200, ['Get Me']], 300, 11], 1, 9]\n",
    "\n",
    "lst[-3][-3][-1][-1]"
   ]
  },
  {
   "cell_type": "code",
   "execution_count": 22,
   "id": "0e8f451a",
   "metadata": {},
   "outputs": [
    {
     "data": {
      "text/plain": [
       "'Get Me'"
      ]
     },
     "execution_count": 22,
     "metadata": {},
     "output_type": "execute_result"
    }
   ],
   "source": []
  },
  {
   "cell_type": "markdown",
   "id": "4a4ba88f",
   "metadata": {},
   "source": [
    "### Task 10\n",
    "Sort the following list of strings by their lengths. You are not allowed to mannually type out the list"
   ]
  },
  {
   "cell_type": "code",
   "execution_count": 16,
   "id": "a7a3ff33",
   "metadata": {},
   "outputs": [
    {
     "data": {
      "text/plain": [
       "['a', 'bb', 'ccc', 'dddd', 'eeeee', 'ffffff', 'ggggggg']"
      ]
     },
     "execution_count": 16,
     "metadata": {},
     "output_type": "execute_result"
    }
   ],
   "source": [
    "x = ['ccc', 'dddd', 'bb', 'ggggggg', 'a', 'eeeee', 'ffffff']\n",
    "x.sort(key=len)\n",
    "x"
   ]
  },
  {
   "cell_type": "code",
   "execution_count": 19,
   "id": "477f0495",
   "metadata": {},
   "outputs": [
    {
     "data": {
      "text/plain": [
       "['a', 'bb', 'ccc', 'dddd', 'eeeee', 'ffffff', 'ggggggg']"
      ]
     },
     "execution_count": 19,
     "metadata": {},
     "output_type": "execute_result"
    }
   ],
   "source": []
  },
  {
   "cell_type": "markdown",
   "id": "b51c2254",
   "metadata": {},
   "source": [
    "### Task 11\n",
    "Extract the string 'Get Me' from the following dictionary d"
   ]
  },
  {
   "cell_type": "code",
   "execution_count": 17,
   "id": "8a43df80",
   "metadata": {},
   "outputs": [
    {
     "data": {
      "text/plain": [
       "'Get Me'"
      ]
     },
     "execution_count": 17,
     "metadata": {},
     "output_type": "execute_result"
    }
   ],
   "source": [
    "d = {'k1':[1, 2, 3, {'tricky':['oh', 'man', 'crazy', {'target':[1, 2, 3, 'Get Me']}]}]}\n",
    "\n",
    "d['k1'][-1]['tricky'][-1]['target'][-1]"
   ]
  },
  {
   "cell_type": "code",
   "execution_count": 21,
   "id": "4184c435",
   "metadata": {},
   "outputs": [
    {
     "data": {
      "text/plain": [
       "'Get Me'"
      ]
     },
     "execution_count": 21,
     "metadata": {},
     "output_type": "execute_result"
    }
   ],
   "source": []
  },
  {
   "cell_type": "markdown",
   "id": "8fa3e925",
   "metadata": {},
   "source": [
    "### Task 12\n",
    "Use lambda expressions and the `filter()` function to filter out words from the following list that don't start with the letter 's'"
   ]
  },
  {
   "cell_type": "code",
   "execution_count": 18,
   "id": "4a023ebc",
   "metadata": {},
   "outputs": [
    {
     "data": {
      "text/plain": [
       "['apple', 'banana', 'kiwi']"
      ]
     },
     "execution_count": 18,
     "metadata": {},
     "output_type": "execute_result"
    }
   ],
   "source": [
    "seq = ['soup', 'apple', 'salad', 'banana', 'spaghetti', 'spinach', 'kiwi']\n",
    "list(filter(lambda word:word[0]!='s',seq))"
   ]
  },
  {
   "cell_type": "code",
   "execution_count": 1,
   "id": "9c90a4f6",
   "metadata": {},
   "outputs": [
    {
     "data": {
      "text/plain": [
       "['apple', 'banana', 'kiwi']"
      ]
     },
     "execution_count": 1,
     "metadata": {},
     "output_type": "execute_result"
    }
   ],
   "source": []
  },
  {
   "cell_type": "markdown",
   "id": "66db071e",
   "metadata": {},
   "source": [
    "### Task 13\n",
    "Count the number of unique characters in the following string s. Please ignore the white space and character case. For example, 'P' and 'p' are considered as one character"
   ]
  },
  {
   "cell_type": "code",
   "execution_count": 21,
   "id": "9a360418",
   "metadata": {},
   "outputs": [
    {
     "data": {
      "text/plain": [
       "14"
      ]
     },
     "execution_count": 21,
     "metadata": {},
     "output_type": "execute_result"
    }
   ],
   "source": [
    "s = 'Python programming is fun'\n",
    "cleanedfully = s.replace(\" \",\"\").lower()\n",
    "news = set(cleanedfully)\n",
    "len(news)"
   ]
  },
  {
   "cell_type": "code",
   "execution_count": 29,
   "id": "81e5bbb0",
   "metadata": {},
   "outputs": [
    {
     "data": {
      "text/plain": [
       "14"
      ]
     },
     "execution_count": 29,
     "metadata": {},
     "output_type": "execute_result"
    }
   ],
   "source": []
  },
  {
   "cell_type": "markdown",
   "id": "00b64768",
   "metadata": {},
   "source": [
    "### Task 14\n",
    "Use lambda expressions and the `map()` function to count the length of each string in the list"
   ]
  },
  {
   "cell_type": "code",
   "execution_count": 23,
   "id": "b735d5e5",
   "metadata": {},
   "outputs": [
    {
     "data": {
      "text/plain": [
       "[4, 5, 5, 6, 9, 7, 4]"
      ]
     },
     "execution_count": 23,
     "metadata": {},
     "output_type": "execute_result"
    }
   ],
   "source": [
    "seq = ['soup', 'apple', 'salad', 'banana', 'spaghetti', 'spinach', 'kiwi']\n",
    "\n",
    "#list(map(len, seq))\n",
    "#s.sort(key=lambda x: len(set(x)))\n",
    "list(map(lambda x: len(x),seq))"
   ]
  },
  {
   "cell_type": "code",
   "execution_count": null,
   "id": "541bf0e6",
   "metadata": {},
   "outputs": [],
   "source": []
  },
  {
   "cell_type": "markdown",
   "id": "aeed3974",
   "metadata": {},
   "source": [
    "### Task 15\n",
    "Create a function that counts the number of times the word 'dog' occurs in a string. Ignore edge cases. "
   ]
  },
  {
   "cell_type": "code",
   "execution_count": 24,
   "id": "3940870f",
   "metadata": {},
   "outputs": [
    {
     "name": "stdout",
     "output_type": "stream",
     "text": [
      "3\n"
     ]
    }
   ],
   "source": [
    "#countDog('This dog looks differently from that dog in the dog shelter!')\n",
    "def countDog(s):\n",
    "    return s.lower().count('dog')\n",
    "\n",
    "# Test the function\n",
    "result = countDog('This dog looks differently from that dog in the dog shelter!')\n",
    "print(result)"
   ]
  },
  {
   "cell_type": "code",
   "execution_count": 34,
   "id": "13bc2166",
   "metadata": {},
   "outputs": [
    {
     "data": {
      "text/plain": [
       "3"
      ]
     },
     "execution_count": 34,
     "metadata": {},
     "output_type": "execute_result"
    }
   ],
   "source": []
  },
  {
   "cell_type": "markdown",
   "id": "05cd0e30",
   "metadata": {},
   "source": [
    "### Task 16\n",
    "Write a `for` loop to process employee information listed in the cell below. For each employee with Level 1, increase the salary by 2000 and adjust the Level from 1 to 2. Display all employee information afterwards."
   ]
  },
  {
   "cell_type": "code",
   "execution_count": 25,
   "id": "df89576e",
   "metadata": {},
   "outputs": [],
   "source": [
    "employee = {\n",
    "    'Elon Musk':{'Department':'Sales', 'Salary':6000, 'Level':2},\n",
    "    'Bill Gates': {'Department':'Engineering', 'Salary':10000, 'Level':3},\n",
    "    'Donald Trump':{'Department':'Public Relations', 'Salary':3000, 'Level':1},\n",
    "    'Joe Biden':{'Department':'Human Resources', 'Salary':5000, 'Level':2},\n",
    "    'Mark Zuckerberg':{'Department':'Engineering', 'Salary':10000, 'Level':3},\n",
    "    'Jensen Huang':{'Department':'Sales', 'Salary':4000, 'Level':1}\n",
    "}"
   ]
  },
  {
   "cell_type": "code",
   "execution_count": 4,
   "id": "2a107723",
   "metadata": {},
   "outputs": [
    {
     "data": {
      "text/plain": [
       "{'Elon Musk': {'Department': 'Sales', 'Salary': 6000, 'Level': 2},\n",
       " 'Bill Gates': {'Department': 'Engineering', 'Salary': 10000, 'Level': 3},\n",
       " 'Donald Trump': {'Department': 'Public Relations',\n",
       "  'Salary': 5000,\n",
       "  'Level': 2},\n",
       " 'Joe Biden': {'Department': 'Human Resources', 'Salary': 5000, 'Level': 2},\n",
       " 'Mark Zuckerberg': {'Department': 'Engineering', 'Salary': 10000, 'Level': 3},\n",
       " 'Jensen Huang': {'Department': 'Sales', 'Salary': 6000, 'Level': 2}}"
      ]
     },
     "execution_count": 4,
     "metadata": {},
     "output_type": "execute_result"
    }
   ],
   "source": [
    "for name, details in employee.items():\n",
    "    if details['Level'] == 1:\n",
    "        details['Salary'] += 2000\n",
    "        details['Level'] = 2\n",
    "\n",
    "employee"
   ]
  },
  {
   "cell_type": "code",
   "execution_count": 2,
   "id": "42bbe4ec",
   "metadata": {},
   "outputs": [
    {
     "name": "stdout",
     "output_type": "stream",
     "text": [
      "{'Elon Musk': {'Department': 'Sales', 'Salary': 6000, 'Level': 2}, 'Bill Gates': {'Department': 'Engineering', 'Salary': 10000, 'Level': 3}, 'Donald Trump': {'Department': 'Public Relations', 'Salary': 5000, 'Level': 2}, 'Joe Biden': {'Department': 'Human Resources', 'Salary': 5000, 'Level': 2}, 'Mark Zuckerberg': {'Department': 'Engineering', 'Salary': 10000, 'Level': 3}, 'Jensen Huang': {'Department': 'Sales', 'Salary': 6000, 'Level': 2}}\n"
     ]
    }
   ],
   "source": []
  }
 ],
 "metadata": {
  "kernelspec": {
   "display_name": "Python 3 (ipykernel)",
   "language": "python",
   "name": "python3"
  },
  "language_info": {
   "codemirror_mode": {
    "name": "ipython",
    "version": 3
   },
   "file_extension": ".py",
   "mimetype": "text/x-python",
   "name": "python",
   "nbconvert_exporter": "python",
   "pygments_lexer": "ipython3",
   "version": "3.12.4"
  }
 },
 "nbformat": 4,
 "nbformat_minor": 5
}
